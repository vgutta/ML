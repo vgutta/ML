{
 "cells": [
  {
   "cell_type": "code",
   "execution_count": 2,
   "metadata": {
    "collapsed": true
   },
   "outputs": [],
   "source": [
    "import pandas as pd"
   ]
  },
  {
   "cell_type": "code",
   "execution_count": 3,
   "metadata": {
    "collapsed": true
   },
   "outputs": [],
   "source": [
    "data = pd.read_csv(\"ItemProfits11k.csv\")"
   ]
  },
  {
   "cell_type": "code",
   "execution_count": 25,
   "metadata": {},
   "outputs": [],
   "source": [
    "data = data.rename(index=str, columns={\"title@\": \"title\"})\n",
    "data = data.dropna()"
   ]
  },
  {
   "cell_type": "code",
   "execution_count": 38,
   "metadata": {},
   "outputs": [
    {
     "data": {
      "text/html": [
       "<div>\n",
       "<style>\n",
       "    .dataframe thead tr:only-child th {\n",
       "        text-align: right;\n",
       "    }\n",
       "\n",
       "    .dataframe thead th {\n",
       "        text-align: left;\n",
       "    }\n",
       "\n",
       "    .dataframe tbody tr th {\n",
       "        vertical-align: top;\n",
       "    }\n",
       "</style>\n",
       "<table border=\"1\" class=\"dataframe\">\n",
       "  <thead>\n",
       "    <tr style=\"text-align: right;\">\n",
       "      <th></th>\n",
       "      <th>id</th>\n",
       "      <th>month</th>\n",
       "      <th>week</th>\n",
       "      <th>price</th>\n",
       "      <th>cost</th>\n",
       "      <th>profit</th>\n",
       "      <th>catid</th>\n",
       "      <th>title</th>\n",
       "    </tr>\n",
       "  </thead>\n",
       "  <tbody>\n",
       "    <tr>\n",
       "      <th>0</th>\n",
       "      <td>20180726090450</td>\n",
       "      <td>2018-09</td>\n",
       "      <td>201835</td>\n",
       "      <td>78.00</td>\n",
       "      <td>34.50</td>\n",
       "      <td>43.50</td>\n",
       "      <td>551</td>\n",
       "      <td>Vintage Phil Austin Ice Fishermen Devils Lake ...</td>\n",
       "    </tr>\n",
       "    <tr>\n",
       "      <th>1</th>\n",
       "      <td>20180730104955</td>\n",
       "      <td>2018-09</td>\n",
       "      <td>201834</td>\n",
       "      <td>10.49</td>\n",
       "      <td>69.00</td>\n",
       "      <td>-58.51</td>\n",
       "      <td>360</td>\n",
       "      <td>Antique 18th C Fabio Berardi Italian Seaside S...</td>\n",
       "    </tr>\n",
       "    <tr>\n",
       "      <th>2</th>\n",
       "      <td>20180730094220</td>\n",
       "      <td>2018-09</td>\n",
       "      <td>201834</td>\n",
       "      <td>23.97</td>\n",
       "      <td>34.50</td>\n",
       "      <td>-10.53</td>\n",
       "      <td>360</td>\n",
       "      <td>Antique 19th C Nuremberg Henkersteg Bridge Cit...</td>\n",
       "    </tr>\n",
       "    <tr>\n",
       "      <th>3</th>\n",
       "      <td>20180807152117</td>\n",
       "      <td>2018-09</td>\n",
       "      <td>201835</td>\n",
       "      <td>89.00</td>\n",
       "      <td>69.00</td>\n",
       "      <td>20.00</td>\n",
       "      <td>592</td>\n",
       "      <td>Antique Rockingham Glazed Yellowware Stoneware...</td>\n",
       "    </tr>\n",
       "    <tr>\n",
       "      <th>4</th>\n",
       "      <td>20180731090728</td>\n",
       "      <td>2018-09</td>\n",
       "      <td>201834</td>\n",
       "      <td>46.00</td>\n",
       "      <td>42.17</td>\n",
       "      <td>3.83</td>\n",
       "      <td>360</td>\n",
       "      <td>Antique 18th C Samuel &amp; Nathaniel Buck Kenilwo...</td>\n",
       "    </tr>\n",
       "  </tbody>\n",
       "</table>\n",
       "</div>"
      ],
      "text/plain": [
       "               id    month    week  price   cost  profit  catid  \\\n",
       "0  20180726090450  2018-09  201835  78.00  34.50   43.50    551   \n",
       "1  20180730104955  2018-09  201834  10.49  69.00  -58.51    360   \n",
       "2  20180730094220  2018-09  201834  23.97  34.50  -10.53    360   \n",
       "3  20180807152117  2018-09  201835  89.00  69.00   20.00    592   \n",
       "4  20180731090728  2018-09  201834  46.00  42.17    3.83    360   \n",
       "\n",
       "                                               title  \n",
       "0  Vintage Phil Austin Ice Fishermen Devils Lake ...  \n",
       "1  Antique 18th C Fabio Berardi Italian Seaside S...  \n",
       "2  Antique 19th C Nuremberg Henkersteg Bridge Cit...  \n",
       "3  Antique Rockingham Glazed Yellowware Stoneware...  \n",
       "4  Antique 18th C Samuel & Nathaniel Buck Kenilwo...  "
      ]
     },
     "execution_count": 38,
     "metadata": {},
     "output_type": "execute_result"
    }
   ],
   "source": [
    "data.head()"
   ]
  },
  {
   "cell_type": "code",
   "execution_count": 27,
   "metadata": {},
   "outputs": [
    {
     "data": {
      "text/html": [
       "<div>\n",
       "<style>\n",
       "    .dataframe thead tr:only-child th {\n",
       "        text-align: right;\n",
       "    }\n",
       "\n",
       "    .dataframe thead th {\n",
       "        text-align: left;\n",
       "    }\n",
       "\n",
       "    .dataframe tbody tr th {\n",
       "        vertical-align: top;\n",
       "    }\n",
       "</style>\n",
       "<table border=\"1\" class=\"dataframe\">\n",
       "  <thead>\n",
       "    <tr style=\"text-align: right;\">\n",
       "      <th></th>\n",
       "      <th>id</th>\n",
       "      <th>month</th>\n",
       "      <th>week</th>\n",
       "      <th>price</th>\n",
       "      <th>cost</th>\n",
       "      <th>profit</th>\n",
       "      <th>catid</th>\n",
       "      <th>title</th>\n",
       "    </tr>\n",
       "  </thead>\n",
       "  <tbody>\n",
       "    <tr>\n",
       "      <th>10995</th>\n",
       "      <td>20151223135006</td>\n",
       "      <td>2017-01</td>\n",
       "      <td>201704</td>\n",
       "      <td>45.00</td>\n",
       "      <td>10.00000</td>\n",
       "      <td>35.00000</td>\n",
       "      <td>592</td>\n",
       "      <td>Antique c 1899 Cobalt Stenciled \"Zachman &amp; Mye...</td>\n",
       "    </tr>\n",
       "    <tr>\n",
       "      <th>10996</th>\n",
       "      <td>20170103125403</td>\n",
       "      <td>2017-01</td>\n",
       "      <td>201704</td>\n",
       "      <td>63.00</td>\n",
       "      <td>62.50000</td>\n",
       "      <td>0.50000</td>\n",
       "      <td>84622</td>\n",
       "      <td>27\" Antique German Bisque Armand Marseille Do...</td>\n",
       "    </tr>\n",
       "    <tr>\n",
       "      <th>10997</th>\n",
       "      <td>20170104081810</td>\n",
       "      <td>2017-01</td>\n",
       "      <td>201704</td>\n",
       "      <td>30.99</td>\n",
       "      <td>11.50000</td>\n",
       "      <td>19.49000</td>\n",
       "      <td>551</td>\n",
       "      <td>Antique 19th c Mary Haines \"Afternoon Tea\" Sti...</td>\n",
       "    </tr>\n",
       "    <tr>\n",
       "      <th>10998</th>\n",
       "      <td>20170111143740</td>\n",
       "      <td>2017-01</td>\n",
       "      <td>201704</td>\n",
       "      <td>22.50</td>\n",
       "      <td>52.40000</td>\n",
       "      <td>-29.90000</td>\n",
       "      <td>2734</td>\n",
       "      <td>Rene Lalique French Crystal Nina Ricci Coeur J...</td>\n",
       "    </tr>\n",
       "    <tr>\n",
       "      <th>10999</th>\n",
       "      <td>20170111112402</td>\n",
       "      <td>2017-01</td>\n",
       "      <td>201704</td>\n",
       "      <td>153.49</td>\n",
       "      <td>80.85009</td>\n",
       "      <td>72.63991</td>\n",
       "      <td>360</td>\n",
       "      <td>1962 Marc \"Chagall et la Bible\" Moses &amp; Tablet...</td>\n",
       "    </tr>\n",
       "  </tbody>\n",
       "</table>\n",
       "</div>"
      ],
      "text/plain": [
       "                   id    month    week   price      cost    profit  catid  \\\n",
       "10995  20151223135006  2017-01  201704   45.00  10.00000  35.00000    592   \n",
       "10996  20170103125403  2017-01  201704   63.00  62.50000   0.50000  84622   \n",
       "10997  20170104081810  2017-01  201704   30.99  11.50000  19.49000    551   \n",
       "10998  20170111143740  2017-01  201704   22.50  52.40000 -29.90000   2734   \n",
       "10999  20170111112402  2017-01  201704  153.49  80.85009  72.63991    360   \n",
       "\n",
       "                                                   title  \n",
       "10995  Antique c 1899 Cobalt Stenciled \"Zachman & Mye...  \n",
       "10996   27\" Antique German Bisque Armand Marseille Do...  \n",
       "10997  Antique 19th c Mary Haines \"Afternoon Tea\" Sti...  \n",
       "10998  Rene Lalique French Crystal Nina Ricci Coeur J...  \n",
       "10999  1962 Marc \"Chagall et la Bible\" Moses & Tablet...  "
      ]
     },
     "execution_count": 27,
     "metadata": {},
     "output_type": "execute_result"
    }
   ],
   "source": [
    "data.tail()"
   ]
  },
  {
   "cell_type": "code",
   "execution_count": 43,
   "metadata": {},
   "outputs": [
    {
     "data": {
      "text/plain": [
       "86"
      ]
     },
     "execution_count": 43,
     "metadata": {},
     "output_type": "execute_result"
    }
   ],
   "source": [
    "cats = data.catid.unique()\n",
    "month = data.month.unique()\n",
    "week = data.week.unique()\n",
    "len(week)"
   ]
  },
  {
   "cell_type": "code",
   "execution_count": 29,
   "metadata": {
    "collapsed": true
   },
   "outputs": [],
   "source": [
    "#data.groupby(\"catid\").count()"
   ]
  },
  {
   "cell_type": "code",
   "execution_count": 44,
   "metadata": {},
   "outputs": [
    {
     "data": {
      "text/html": [
       "<div>\n",
       "<style>\n",
       "    .dataframe thead tr:only-child th {\n",
       "        text-align: right;\n",
       "    }\n",
       "\n",
       "    .dataframe thead th {\n",
       "        text-align: left;\n",
       "    }\n",
       "\n",
       "    .dataframe tbody tr th {\n",
       "        vertical-align: top;\n",
       "    }\n",
       "</style>\n",
       "<table border=\"1\" class=\"dataframe\">\n",
       "  <thead>\n",
       "    <tr style=\"text-align: right;\">\n",
       "      <th></th>\n",
       "      <th>month</th>\n",
       "      <th>week</th>\n",
       "      <th>price</th>\n",
       "      <th>cost</th>\n",
       "      <th>catid</th>\n",
       "    </tr>\n",
       "  </thead>\n",
       "  <tbody>\n",
       "    <tr>\n",
       "      <th>0</th>\n",
       "      <td>2018-09</td>\n",
       "      <td>201835</td>\n",
       "      <td>78.00</td>\n",
       "      <td>34.50</td>\n",
       "      <td>551</td>\n",
       "    </tr>\n",
       "    <tr>\n",
       "      <th>1</th>\n",
       "      <td>2018-09</td>\n",
       "      <td>201834</td>\n",
       "      <td>10.49</td>\n",
       "      <td>69.00</td>\n",
       "      <td>360</td>\n",
       "    </tr>\n",
       "    <tr>\n",
       "      <th>2</th>\n",
       "      <td>2018-09</td>\n",
       "      <td>201834</td>\n",
       "      <td>23.97</td>\n",
       "      <td>34.50</td>\n",
       "      <td>360</td>\n",
       "    </tr>\n",
       "    <tr>\n",
       "      <th>3</th>\n",
       "      <td>2018-09</td>\n",
       "      <td>201835</td>\n",
       "      <td>89.00</td>\n",
       "      <td>69.00</td>\n",
       "      <td>592</td>\n",
       "    </tr>\n",
       "    <tr>\n",
       "      <th>4</th>\n",
       "      <td>2018-09</td>\n",
       "      <td>201834</td>\n",
       "      <td>46.00</td>\n",
       "      <td>42.17</td>\n",
       "      <td>360</td>\n",
       "    </tr>\n",
       "  </tbody>\n",
       "</table>\n",
       "</div>"
      ],
      "text/plain": [
       "     month    week  price   cost  catid\n",
       "0  2018-09  201835  78.00  34.50    551\n",
       "1  2018-09  201834  10.49  69.00    360\n",
       "2  2018-09  201834  23.97  34.50    360\n",
       "3  2018-09  201835  89.00  69.00    592\n",
       "4  2018-09  201834  46.00  42.17    360"
      ]
     },
     "execution_count": 44,
     "metadata": {},
     "output_type": "execute_result"
    }
   ],
   "source": [
    "columns_of_interest = ['month', 'week', 'price', 'cost', 'catid']\n",
    "data_columns_of_interest = data[columns_of_interest]\n",
    "data_columns_of_interest.head()"
   ]
  },
  {
   "cell_type": "code",
   "execution_count": 31,
   "metadata": {},
   "outputs": [
    {
     "data": {
      "text/plain": [
       "0    78.00\n",
       "1    10.49\n",
       "2    23.97\n",
       "3    89.00\n",
       "4    46.00\n",
       "Name: price, dtype: float64"
      ]
     },
     "execution_count": 31,
     "metadata": {},
     "output_type": "execute_result"
    }
   ],
   "source": [
    "price = data['price']\n",
    "price.head()"
   ]
  },
  {
   "cell_type": "code",
   "execution_count": 32,
   "metadata": {},
   "outputs": [],
   "source": [
    "y = data.price"
   ]
  },
  {
   "cell_type": "code",
   "execution_count": 33,
   "metadata": {},
   "outputs": [],
   "source": [
    "predictors = ['week', 'cost', 'catid', 'month']\n",
    "categorical_predictors = ['month','week', 'catid']\n",
    "continuous_predictors = ['cost']\n",
    "X = data[predictors]"
   ]
  },
  {
   "cell_type": "code",
   "execution_count": 41,
   "metadata": {
    "collapsed": true
   },
   "outputs": [],
   "source": [
    "from sklearn.preprocessing import LabelEncoder"
   ]
  },
  {
   "cell_type": "code",
   "execution_count": 42,
   "metadata": {
    "collapsed": true
   },
   "outputs": [],
   "source": [
    "le = LabelEncoder()\n"
   ]
  },
  {
   "cell_type": "code",
   "execution_count": 34,
   "metadata": {
    "collapsed": true
   },
   "outputs": [],
   "source": [
    "from sklearn.tree import DecisionTreeRegressor"
   ]
  },
  {
   "cell_type": "code",
   "execution_count": 36,
   "metadata": {},
   "outputs": [
    {
     "data": {
      "text/plain": [
       "DecisionTreeRegressor(criterion='mse', max_depth=None, max_features=None,\n",
       "           max_leaf_nodes=None, min_impurity_split=1e-07,\n",
       "           min_samples_leaf=1, min_samples_split=2,\n",
       "           min_weight_fraction_leaf=0.0, presort=False, random_state=None,\n",
       "           splitter='best')"
      ]
     },
     "execution_count": 36,
     "metadata": {},
     "output_type": "execute_result"
    }
   ],
   "source": [
    "model = DecisionTreeRegressor()\n",
    "\n",
    "#X.dropna\n",
    "model.fit(X,y)"
   ]
  },
  {
   "cell_type": "code",
   "execution_count": 37,
   "metadata": {},
   "outputs": [
    {
     "name": "stdout",
     "output_type": "stream",
     "text": [
      "Predict prices for the following items\n",
      "     week   cost  catid\n",
      "0  201835  34.50    551\n",
      "1  201834  69.00    360\n",
      "2  201834  34.50    360\n",
      "3  201835  69.00    592\n",
      "4  201834  42.17    360\n",
      "Prediction...\n",
      "[ 78.          10.49        43.048       89.          30.35333333]\n"
     ]
    }
   ],
   "source": [
    "print(\"Predict prices for the following items\")\n",
    "print(X.head())\n",
    "print(\"Prediction...\")\n",
    "print(model.predict(X.head()))\n",
    "# not even close"
   ]
  },
  {
   "cell_type": "code",
   "execution_count": null,
   "metadata": {
    "collapsed": true
   },
   "outputs": [],
   "source": []
  }
 ],
 "metadata": {
  "kernelspec": {
   "display_name": "Python 3",
   "language": "python",
   "name": "python3"
  },
  "language_info": {
   "codemirror_mode": {
    "name": "ipython",
    "version": 3
   },
   "file_extension": ".py",
   "mimetype": "text/x-python",
   "name": "python",
   "nbconvert_exporter": "python",
   "pygments_lexer": "ipython3",
   "version": "3.6.1"
  }
 },
 "nbformat": 4,
 "nbformat_minor": 2
}
