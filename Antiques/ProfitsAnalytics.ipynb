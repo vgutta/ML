{
 "cells": [
  {
   "cell_type": "code",
   "execution_count": 1,
   "metadata": {
    "collapsed": true
   },
   "outputs": [],
   "source": [
    "import pandas as pd"
   ]
  },
  {
   "cell_type": "code",
   "execution_count": 2,
   "metadata": {
    "collapsed": true
   },
   "outputs": [],
   "source": [
    "data = pd.read_csv(\"ItemProfits11k.csv\")"
   ]
  },
  {
   "cell_type": "code",
   "execution_count": 12,
   "metadata": {},
   "outputs": [],
   "source": [
    "data = data.rename(index=str, columns={\"title@\": \"title\"})"
   ]
  },
  {
   "cell_type": "code",
   "execution_count": 13,
   "metadata": {},
   "outputs": [
    {
     "data": {
      "text/html": [
       "<div>\n",
       "<style>\n",
       "    .dataframe thead tr:only-child th {\n",
       "        text-align: right;\n",
       "    }\n",
       "\n",
       "    .dataframe thead th {\n",
       "        text-align: left;\n",
       "    }\n",
       "\n",
       "    .dataframe tbody tr th {\n",
       "        vertical-align: top;\n",
       "    }\n",
       "</style>\n",
       "<table border=\"1\" class=\"dataframe\">\n",
       "  <thead>\n",
       "    <tr style=\"text-align: right;\">\n",
       "      <th></th>\n",
       "      <th>id</th>\n",
       "      <th>month</th>\n",
       "      <th>week</th>\n",
       "      <th>price</th>\n",
       "      <th>cost</th>\n",
       "      <th>profit</th>\n",
       "      <th>catid</th>\n",
       "      <th>title</th>\n",
       "    </tr>\n",
       "  </thead>\n",
       "  <tbody>\n",
       "    <tr>\n",
       "      <th>0</th>\n",
       "      <td>20180726090450</td>\n",
       "      <td>2018-09</td>\n",
       "      <td>201835</td>\n",
       "      <td>78.00</td>\n",
       "      <td>34.50</td>\n",
       "      <td>43.50</td>\n",
       "      <td>551</td>\n",
       "      <td>Vintage Phil Austin Ice Fishermen Devils Lake ...</td>\n",
       "    </tr>\n",
       "    <tr>\n",
       "      <th>1</th>\n",
       "      <td>20180730104955</td>\n",
       "      <td>2018-09</td>\n",
       "      <td>201834</td>\n",
       "      <td>10.49</td>\n",
       "      <td>69.00</td>\n",
       "      <td>-58.51</td>\n",
       "      <td>360</td>\n",
       "      <td>Antique 18th C Fabio Berardi Italian Seaside S...</td>\n",
       "    </tr>\n",
       "    <tr>\n",
       "      <th>2</th>\n",
       "      <td>20180730094220</td>\n",
       "      <td>2018-09</td>\n",
       "      <td>201834</td>\n",
       "      <td>23.97</td>\n",
       "      <td>34.50</td>\n",
       "      <td>-10.53</td>\n",
       "      <td>360</td>\n",
       "      <td>Antique 19th C Nuremberg Henkersteg Bridge Cit...</td>\n",
       "    </tr>\n",
       "    <tr>\n",
       "      <th>3</th>\n",
       "      <td>20180807152117</td>\n",
       "      <td>2018-09</td>\n",
       "      <td>201835</td>\n",
       "      <td>89.00</td>\n",
       "      <td>69.00</td>\n",
       "      <td>20.00</td>\n",
       "      <td>592</td>\n",
       "      <td>Antique Rockingham Glazed Yellowware Stoneware...</td>\n",
       "    </tr>\n",
       "    <tr>\n",
       "      <th>4</th>\n",
       "      <td>20180731090728</td>\n",
       "      <td>2018-09</td>\n",
       "      <td>201834</td>\n",
       "      <td>46.00</td>\n",
       "      <td>42.17</td>\n",
       "      <td>3.83</td>\n",
       "      <td>360</td>\n",
       "      <td>Antique 18th C Samuel &amp; Nathaniel Buck Kenilwo...</td>\n",
       "    </tr>\n",
       "  </tbody>\n",
       "</table>\n",
       "</div>"
      ],
      "text/plain": [
       "               id    month    week  price   cost  profit  catid  \\\n",
       "0  20180726090450  2018-09  201835  78.00  34.50   43.50    551   \n",
       "1  20180730104955  2018-09  201834  10.49  69.00  -58.51    360   \n",
       "2  20180730094220  2018-09  201834  23.97  34.50  -10.53    360   \n",
       "3  20180807152117  2018-09  201835  89.00  69.00   20.00    592   \n",
       "4  20180731090728  2018-09  201834  46.00  42.17    3.83    360   \n",
       "\n",
       "                                               title  \n",
       "0  Vintage Phil Austin Ice Fishermen Devils Lake ...  \n",
       "1  Antique 18th C Fabio Berardi Italian Seaside S...  \n",
       "2  Antique 19th C Nuremberg Henkersteg Bridge Cit...  \n",
       "3  Antique Rockingham Glazed Yellowware Stoneware...  \n",
       "4  Antique 18th C Samuel & Nathaniel Buck Kenilwo...  "
      ]
     },
     "execution_count": 13,
     "metadata": {},
     "output_type": "execute_result"
    }
   ],
   "source": [
    "data.head()"
   ]
  },
  {
   "cell_type": "code",
   "execution_count": 14,
   "metadata": {},
   "outputs": [
    {
     "data": {
      "text/html": [
       "<div>\n",
       "<style>\n",
       "    .dataframe thead tr:only-child th {\n",
       "        text-align: right;\n",
       "    }\n",
       "\n",
       "    .dataframe thead th {\n",
       "        text-align: left;\n",
       "    }\n",
       "\n",
       "    .dataframe tbody tr th {\n",
       "        vertical-align: top;\n",
       "    }\n",
       "</style>\n",
       "<table border=\"1\" class=\"dataframe\">\n",
       "  <thead>\n",
       "    <tr style=\"text-align: right;\">\n",
       "      <th></th>\n",
       "      <th>id</th>\n",
       "      <th>week</th>\n",
       "      <th>price</th>\n",
       "      <th>cost</th>\n",
       "      <th>profit</th>\n",
       "      <th>catid</th>\n",
       "    </tr>\n",
       "  </thead>\n",
       "  <tbody>\n",
       "    <tr>\n",
       "      <th>count</th>\n",
       "      <td>1.100000e+04</td>\n",
       "      <td>11000.000000</td>\n",
       "      <td>11000.000000</td>\n",
       "      <td>10537.000000</td>\n",
       "      <td>10537.000000</td>\n",
       "      <td>11000.000000</td>\n",
       "    </tr>\n",
       "    <tr>\n",
       "      <th>mean</th>\n",
       "      <td>2.017379e+13</td>\n",
       "      <td>201764.465364</td>\n",
       "      <td>116.521882</td>\n",
       "      <td>59.338283</td>\n",
       "      <td>56.462637</td>\n",
       "      <td>33200.409818</td>\n",
       "    </tr>\n",
       "    <tr>\n",
       "      <th>std</th>\n",
       "      <td>5.784247e+09</td>\n",
       "      <td>47.936123</td>\n",
       "      <td>203.435726</td>\n",
       "      <td>120.350140</td>\n",
       "      <td>171.243493</td>\n",
       "      <td>51024.324504</td>\n",
       "    </tr>\n",
       "    <tr>\n",
       "      <th>min</th>\n",
       "      <td>2.014102e+13</td>\n",
       "      <td>201701.000000</td>\n",
       "      <td>0.990000</td>\n",
       "      <td>0.000000</td>\n",
       "      <td>-2915.000000</td>\n",
       "      <td>12.000000</td>\n",
       "    </tr>\n",
       "    <tr>\n",
       "      <th>25%</th>\n",
       "      <td>2.017041e+13</td>\n",
       "      <td>201720.000000</td>\n",
       "      <td>35.000000</td>\n",
       "      <td>14.290000</td>\n",
       "      <td>2.300000</td>\n",
       "      <td>551.000000</td>\n",
       "    </tr>\n",
       "    <tr>\n",
       "      <th>50%</th>\n",
       "      <td>2.017103e+13</td>\n",
       "      <td>201747.000000</td>\n",
       "      <td>67.000000</td>\n",
       "      <td>34.500000</td>\n",
       "      <td>29.720000</td>\n",
       "      <td>2734.000000</td>\n",
       "    </tr>\n",
       "    <tr>\n",
       "      <th>75%</th>\n",
       "      <td>2.018032e+13</td>\n",
       "      <td>201815.000000</td>\n",
       "      <td>134.490000</td>\n",
       "      <td>69.000000</td>\n",
       "      <td>74.060000</td>\n",
       "      <td>38126.000000</td>\n",
       "    </tr>\n",
       "    <tr>\n",
       "      <th>max</th>\n",
       "      <td>2.018082e+13</td>\n",
       "      <td>201835.000000</td>\n",
       "      <td>9975.200000</td>\n",
       "      <td>5175.000000</td>\n",
       "      <td>9962.700000</td>\n",
       "      <td>184440.000000</td>\n",
       "    </tr>\n",
       "  </tbody>\n",
       "</table>\n",
       "</div>"
      ],
      "text/plain": [
       "                 id           week         price          cost        profit  \\\n",
       "count  1.100000e+04   11000.000000  11000.000000  10537.000000  10537.000000   \n",
       "mean   2.017379e+13  201764.465364    116.521882     59.338283     56.462637   \n",
       "std    5.784247e+09      47.936123    203.435726    120.350140    171.243493   \n",
       "min    2.014102e+13  201701.000000      0.990000      0.000000  -2915.000000   \n",
       "25%    2.017041e+13  201720.000000     35.000000     14.290000      2.300000   \n",
       "50%    2.017103e+13  201747.000000     67.000000     34.500000     29.720000   \n",
       "75%    2.018032e+13  201815.000000    134.490000     69.000000     74.060000   \n",
       "max    2.018082e+13  201835.000000   9975.200000   5175.000000   9962.700000   \n",
       "\n",
       "               catid  \n",
       "count   11000.000000  \n",
       "mean    33200.409818  \n",
       "std     51024.324504  \n",
       "min        12.000000  \n",
       "25%       551.000000  \n",
       "50%      2734.000000  \n",
       "75%     38126.000000  \n",
       "max    184440.000000  "
      ]
     },
     "execution_count": 14,
     "metadata": {},
     "output_type": "execute_result"
    }
   ],
   "source": [
    "data.describe()"
   ]
  },
  {
   "cell_type": "code",
   "execution_count": 16,
   "metadata": {},
   "outputs": [],
   "source": [
    "cats = data.catid.unique()"
   ]
  },
  {
   "cell_type": "code",
   "execution_count": 17,
   "metadata": {},
   "outputs": [
    {
     "data": {
      "text/plain": [
       "1057"
      ]
     },
     "execution_count": 17,
     "metadata": {},
     "output_type": "execute_result"
    }
   ],
   "source": [
    "len(cats)"
   ]
  },
  {
   "cell_type": "code",
   "execution_count": null,
   "metadata": {
    "collapsed": true
   },
   "outputs": [],
   "source": []
  }
 ],
 "metadata": {
  "kernelspec": {
   "display_name": "Python 3",
   "language": "python",
   "name": "python3"
  },
  "language_info": {
   "codemirror_mode": {
    "name": "ipython",
    "version": 3
   },
   "file_extension": ".py",
   "mimetype": "text/x-python",
   "name": "python",
   "nbconvert_exporter": "python",
   "pygments_lexer": "ipython3",
   "version": "3.6.1"
  }
 },
 "nbformat": 4,
 "nbformat_minor": 2
}
