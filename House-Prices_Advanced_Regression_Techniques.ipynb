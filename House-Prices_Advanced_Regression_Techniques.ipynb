{
  "cells": [
    {
      "metadata": {
        "_cell_guid": "e81ee64d-e474-4662-9036-ce23df615199",
        "_uuid": "b6269c0e8f417f82daf093dda8fa0da6d2c57d86"
      },
      "cell_type": "markdown",
      "source": "Sample of code below."
    },
    {
      "metadata": {
        "_cell_guid": "86b26423-563a-4fa1-a595-89e25ff93089",
        "_uuid": "1c728098629e1301643443b1341556a15c089b2b",
        "trusted": false,
        "collapsed": true
      },
      "cell_type": "code",
      "source": "import pandas as pd\n\nmain_file_path = '../input/train.csv'\ndata = pd.read_csv(main_file_path)\nprint(data.columns)",
      "execution_count": null,
      "outputs": []
    },
    {
      "metadata": {
        "_cell_guid": "8c81b1ce-8647-4ff9-a660-46c8d8584fd3",
        "_uuid": "715560c58e66305e8f89752b6e440efe0de08cf3",
        "trusted": false,
        "collapsed": true
      },
      "cell_type": "code",
      "source": "sale_price = data['SalePrice']\nprint(sale_price.head())",
      "execution_count": null,
      "outputs": []
    },
    {
      "metadata": {
        "_cell_guid": "d22784c2-9cf8-4780-a4c1-3f90c864c262",
        "_uuid": "739baf61b40a708b3c295b543ddec7dc6e301713",
        "trusted": false,
        "collapsed": true
      },
      "cell_type": "code",
      "source": "columns_of_interest = ['Street', 'Neighborhood']\ntwo_columns_of_data = data[columns_of_interest]\ntwo_columns_of_data.describe()\n",
      "execution_count": null,
      "outputs": []
    },
    {
      "metadata": {
        "collapsed": true,
        "_cell_guid": "093372a6-2b7b-4c31-9666-77c2fafba18b",
        "_uuid": "4bb47bcbb73067dfd6cb3adbeb35d56f8a6faa00",
        "trusted": false
      },
      "cell_type": "code",
      "source": "y = data.SalePrice",
      "execution_count": null,
      "outputs": []
    },
    {
      "metadata": {
        "collapsed": true,
        "_kg_hide-input": true,
        "_cell_guid": "2d434817-f7af-45d9-9922-bd260d3312f7",
        "_uuid": "503b3c595e8db5c1c6bce6c4ebbeb6d15032ae13",
        "trusted": false
      },
      "cell_type": "code",
      "source": "predictors = ['LotArea', 'YearBuilt', '1stFlrSF', '2ndFlrSF', 'FullBath', 'BedroomAbvGr', 'TotRmsAbvGrd']\nX = data[predictors]",
      "execution_count": null,
      "outputs": []
    },
    {
      "metadata": {
        "collapsed": true,
        "_cell_guid": "e074050f-0a76-449a-9235-117096ea1e6b",
        "_uuid": "0c0615df6d720af899e7c5ba6d787f5184f1a1c7",
        "trusted": false
      },
      "cell_type": "code",
      "source": "from sklearn.tree import DecisionTreeRegressor",
      "execution_count": null,
      "outputs": []
    },
    {
      "metadata": {
        "_cell_guid": "81f814ba-73a7-4f07-a27c-fda3c12023eb",
        "_uuid": "83d2e7418de51ceb938c1835bcf31e5d5ac49cdf",
        "trusted": false,
        "collapsed": true
      },
      "cell_type": "code",
      "source": "model = DecisionTreeRegressor()\n\nmodel.fit(X,y)",
      "execution_count": null,
      "outputs": []
    },
    {
      "metadata": {
        "_cell_guid": "5fa29240-5593-42c8-aa81-fc9c6fd78414",
        "_uuid": "67c68d182a5aac15d81e0d710b10332df2011952",
        "trusted": false,
        "collapsed": true
      },
      "cell_type": "code",
      "source": "print(\"Predict prices for the following houses\")\nprint(X.head())\nprint(\"Prediction...\")\nprint(model.predict(X.head()))",
      "execution_count": null,
      "outputs": []
    },
    {
      "metadata": {
        "_cell_guid": "c81596cb-3159-439c-8b16-f1f79a215b8f",
        "_uuid": "327dcb24501524ad1f883ecb93d450b3540c7141",
        "trusted": false,
        "collapsed": true
      },
      "cell_type": "code",
      "source": "from sklearn.model_selection import train_test_split\nfrom sklearn.metrics import mean_absolute_error\n\ntrain_X, val_X, train_y, val_y = train_test_split(X, y , random_state = 0)\n\niowa_model = DecisionTreeRegressor()\n\niowa_model.fit(train_X, train_y)\n\npredictions = iowa_model.predict(val_X)\nprint(mean_absolute_error(val_y, predictions))",
      "execution_count": null,
      "outputs": []
    },
    {
      "metadata": {
        "collapsed": true,
        "_cell_guid": "b4ba511e-96ef-4baf-b223-044c12d9b7a5",
        "_uuid": "6680afae81c90dde0ce953ae4a02ecfb3b297ef1",
        "trusted": false
      },
      "cell_type": "code",
      "source": "def get_mae(max_leaf_nodes, predictors_train, predictors_val, targ_train, targ_val):\n    model = DecisionTreeRegressor(max_leaf_nodes=max_leaf_nodes, random_state=0)\n    model.fit(predictors_train, targ_train)\n    preds_val = model.predict(predictors_val)\n    mae = mean_absolute_error(targ_val, preds_val)\n    return(mae)",
      "execution_count": null,
      "outputs": []
    },
    {
      "metadata": {
        "_cell_guid": "2594fd68-08ba-4c63-9a83-987addd1dc09",
        "_uuid": "bb214e8d99f3a204d65c7ccbb4a90ed78c457bc2",
        "trusted": false,
        "collapsed": true
      },
      "cell_type": "code",
      "source": "for max_leaf_nodes in [5, 50, 500, 5000]:\n    my_mae = get_mae(max_leaf_nodes, train_X, val_X, train_y, val_y)\n    print(\"Max leaf nodes: %d  \\t\\t Mean Absolute Error:  %d\" %(max_leaf_nodes, my_mae))",
      "execution_count": null,
      "outputs": []
    },
    {
      "metadata": {
        "_cell_guid": "329f83c4-97cf-4645-ad6f-d21541e6b441",
        "_uuid": "1edf126178f66baf94b6719ad4152dfed8a51494",
        "trusted": false,
        "collapsed": true
      },
      "cell_type": "code",
      "source": "from sklearn.ensemble import RandomForestRegressor\n\nforest_model = RandomForestRegressor()\nforest_model.fit(train_X, train_y)\niowa_prediction = forest_model.predict(val_X)\nprint(mean_absolute_error(val_y, iowa_prediction))\n",
      "execution_count": null,
      "outputs": []
    },
    {
      "metadata": {
        "collapsed": true,
        "_cell_guid": "66c7e324-59bd-4a12-891a-4de3369adfcf",
        "_uuid": "cfb207d73081d9ccdc81cec8678c892bd2296086",
        "trusted": false
      },
      "cell_type": "code",
      "source": "test = pd.read_csv('../input/test.csv')\n\ntest_X = test[predictors]\n\npredicted_prices = iowa_model.predict(test_X)\n\n\n",
      "execution_count": null,
      "outputs": []
    },
    {
      "metadata": {
        "collapsed": true,
        "_cell_guid": "7bcbdb82-a3f2-47eb-a76e-54d79296fe43",
        "_uuid": "70855fdcda261685fb6d16d873f8fcb3d0b13272",
        "trusted": false
      },
      "cell_type": "code",
      "source": "my_submission = pd.DataFrame({'Id': test.Id, 'SalePrice': predicted_prices})\n\nmy_submission.to_csv('submission.csv', index=False)\n",
      "execution_count": null,
      "outputs": []
    }
  ],
  "metadata": {
    "kernelspec": {
      "display_name": "Python 3",
      "language": "python",
      "name": "python3"
    },
    "language_info": {
      "codemirror_mode": {
        "version": 3,
        "name": "ipython"
      },
      "file_extension": ".py",
      "pygments_lexer": "ipython3",
      "version": "3.6.4",
      "name": "python",
      "mimetype": "text/x-python",
      "nbconvert_exporter": "python"
    }
  },
  "nbformat": 4,
  "nbformat_minor": 1
}